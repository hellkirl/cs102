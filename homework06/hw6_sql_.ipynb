{
 "cells": [
  {
   "cell_type": "code",
   "execution_count": 39,
   "metadata": {
    "collapsed": true,
    "ExecuteTime": {
     "start_time": "2023-04-20T19:30:06.271689Z",
     "end_time": "2023-04-20T19:30:06.580205Z"
    }
   },
   "outputs": [
    {
     "data": {
      "text/plain": "   instance_id           artist_name            track_name  popularity  \\\n0      32894.0              Röyksopp  Röyksopp's Night Out        27.0   \n1      46652.0  Thievery Corporation      The Shining Path        31.0   \n2      30097.0        Dillon Francis             Hurricane        28.0   \n3      62177.0              Dubloadz                 Nitro        34.0   \n4      24907.0           What So Not      Divide & Conquer        32.0   \n\n   acousticness  danceability  duration_ms  energy  instrumentalness key  \\\n0       0.00468         0.652         -1.0   0.941           0.79200  A#   \n1       0.01270         0.622     218293.0   0.890           0.95000   D   \n2       0.00306         0.620     215613.0   0.755           0.01180  G#   \n3       0.02540         0.774     166875.0   0.700           0.00253  C#   \n4       0.00465         0.638     222369.0   0.587           0.90900  F#   \n\n   liveness  loudness   mode  speechiness               tempo obtained_date  \\\n0     0.115    -5.201  Minor       0.0748             100.889         4-Apr   \n1     0.124    -7.043  Minor       0.0300  115.00200000000001         4-Apr   \n2     0.534    -4.617  Major       0.0345             127.994         4-Apr   \n3     0.157    -4.498  Major       0.2390             128.014         4-Apr   \n4     0.157    -6.266  Major       0.0413             145.036         4-Apr   \n\n   valence music_genre  \n0    0.759  Electronic  \n1    0.531  Electronic  \n2    0.333  Electronic  \n3    0.270  Electronic  \n4    0.323  Electronic  ",
      "text/html": "<div>\n<style scoped>\n    .dataframe tbody tr th:only-of-type {\n        vertical-align: middle;\n    }\n\n    .dataframe tbody tr th {\n        vertical-align: top;\n    }\n\n    .dataframe thead th {\n        text-align: right;\n    }\n</style>\n<table border=\"1\" class=\"dataframe\">\n  <thead>\n    <tr style=\"text-align: right;\">\n      <th></th>\n      <th>instance_id</th>\n      <th>artist_name</th>\n      <th>track_name</th>\n      <th>popularity</th>\n      <th>acousticness</th>\n      <th>danceability</th>\n      <th>duration_ms</th>\n      <th>energy</th>\n      <th>instrumentalness</th>\n      <th>key</th>\n      <th>liveness</th>\n      <th>loudness</th>\n      <th>mode</th>\n      <th>speechiness</th>\n      <th>tempo</th>\n      <th>obtained_date</th>\n      <th>valence</th>\n      <th>music_genre</th>\n    </tr>\n  </thead>\n  <tbody>\n    <tr>\n      <th>0</th>\n      <td>32894.0</td>\n      <td>Röyksopp</td>\n      <td>Röyksopp's Night Out</td>\n      <td>27.0</td>\n      <td>0.00468</td>\n      <td>0.652</td>\n      <td>-1.0</td>\n      <td>0.941</td>\n      <td>0.79200</td>\n      <td>A#</td>\n      <td>0.115</td>\n      <td>-5.201</td>\n      <td>Minor</td>\n      <td>0.0748</td>\n      <td>100.889</td>\n      <td>4-Apr</td>\n      <td>0.759</td>\n      <td>Electronic</td>\n    </tr>\n    <tr>\n      <th>1</th>\n      <td>46652.0</td>\n      <td>Thievery Corporation</td>\n      <td>The Shining Path</td>\n      <td>31.0</td>\n      <td>0.01270</td>\n      <td>0.622</td>\n      <td>218293.0</td>\n      <td>0.890</td>\n      <td>0.95000</td>\n      <td>D</td>\n      <td>0.124</td>\n      <td>-7.043</td>\n      <td>Minor</td>\n      <td>0.0300</td>\n      <td>115.00200000000001</td>\n      <td>4-Apr</td>\n      <td>0.531</td>\n      <td>Electronic</td>\n    </tr>\n    <tr>\n      <th>2</th>\n      <td>30097.0</td>\n      <td>Dillon Francis</td>\n      <td>Hurricane</td>\n      <td>28.0</td>\n      <td>0.00306</td>\n      <td>0.620</td>\n      <td>215613.0</td>\n      <td>0.755</td>\n      <td>0.01180</td>\n      <td>G#</td>\n      <td>0.534</td>\n      <td>-4.617</td>\n      <td>Major</td>\n      <td>0.0345</td>\n      <td>127.994</td>\n      <td>4-Apr</td>\n      <td>0.333</td>\n      <td>Electronic</td>\n    </tr>\n    <tr>\n      <th>3</th>\n      <td>62177.0</td>\n      <td>Dubloadz</td>\n      <td>Nitro</td>\n      <td>34.0</td>\n      <td>0.02540</td>\n      <td>0.774</td>\n      <td>166875.0</td>\n      <td>0.700</td>\n      <td>0.00253</td>\n      <td>C#</td>\n      <td>0.157</td>\n      <td>-4.498</td>\n      <td>Major</td>\n      <td>0.2390</td>\n      <td>128.014</td>\n      <td>4-Apr</td>\n      <td>0.270</td>\n      <td>Electronic</td>\n    </tr>\n    <tr>\n      <th>4</th>\n      <td>24907.0</td>\n      <td>What So Not</td>\n      <td>Divide &amp; Conquer</td>\n      <td>32.0</td>\n      <td>0.00465</td>\n      <td>0.638</td>\n      <td>222369.0</td>\n      <td>0.587</td>\n      <td>0.90900</td>\n      <td>F#</td>\n      <td>0.157</td>\n      <td>-6.266</td>\n      <td>Major</td>\n      <td>0.0413</td>\n      <td>145.036</td>\n      <td>4-Apr</td>\n      <td>0.323</td>\n      <td>Electronic</td>\n    </tr>\n  </tbody>\n</table>\n</div>"
     },
     "execution_count": 39,
     "metadata": {},
     "output_type": "execute_result"
    }
   ],
   "source": [
    "import pandas as pd\n",
    "import sqlite3\n",
    "\n",
    "df = pd.read_csv(\"music_genre.csv\")\n",
    "con = sqlite3.connect(\":memory:\")\n",
    "df.to_sql(\"music_genre\", con=con)\n",
    "cur = con.cursor()\n",
    "df.head()"
   ]
  },
  {
   "cell_type": "markdown",
   "source": [
    "### Задание 1"
   ],
   "metadata": {
    "collapsed": false
   }
  },
  {
   "cell_type": "code",
   "execution_count": 40,
   "outputs": [
    {
     "data": {
      "text/plain": "<sqlite3.Cursor at 0x17ca128c0>"
     },
     "execution_count": 40,
     "metadata": {},
     "output_type": "execute_result"
    }
   ],
   "source": [
    "\"\"\"Удаление строк с значением 'empty_field' в колонке 'artist_name' - шаг 1.4\"\"\"\n",
    "cur.execute(\"SELECT artist_name FROM music_genre WHERE artist_name = 'empty_field'\")\n",
    "cur.execute(\"DELETE FROM music_genre WHERE artist_name = 'empty_field'\")\n",
    "cur.execute(\"\"\"DELETE FROM music_genre\n",
    "WHERE artist_name IS NULL;\"\"\")"
   ],
   "metadata": {
    "collapsed": false,
    "ExecuteTime": {
     "start_time": "2023-04-20T19:30:06.581799Z",
     "end_time": "2023-04-20T19:30:06.595233Z"
    }
   }
  },
  {
   "cell_type": "markdown",
   "source": [
    "### Задание 2"
   ],
   "metadata": {
    "collapsed": false
   }
  },
  {
   "cell_type": "code",
   "execution_count": 41,
   "outputs": [
    {
     "data": {
      "text/plain": "[('Alternative', 9.951379680495043),\n ('Anime', 9.951379680495043),\n ('Blues', 9.987160868009514),\n ('Classical', 9.964008334911915),\n ('Country', 10.058723243038454),\n ('Electronic', 10.054513691566164),\n ('Hip-Hop', 10.008208625370967),\n ('Jazz', 10.039780261413146),\n ('Rap', 9.970322662120351),\n ('Rock', 10.014522952579403)]"
     },
     "execution_count": 41,
     "metadata": {},
     "output_type": "execute_result"
    }
   ],
   "source": [
    "\"\"\"Доля каждого жанра - шаг 2.1\"\"\"\n",
    "cur.execute(\"SELECT music_genre, COUNT(*) * 100.0 / SUM(COUNT(*)) OVER () AS genre_percentage FROM music_genre GROUP BY music_genre;\")\n",
    "cur.fetchall()"
   ],
   "metadata": {
    "collapsed": false,
    "ExecuteTime": {
     "start_time": "2023-04-20T19:30:06.596509Z",
     "end_time": "2023-04-20T19:30:06.646673Z"
    }
   }
  },
  {
   "cell_type": "code",
   "execution_count": 42,
   "outputs": [
    {
     "data": {
      "text/plain": "[('Hip-Hop', 0.986)]"
     },
     "execution_count": 42,
     "metadata": {},
     "output_type": "execute_result"
    }
   ],
   "source": [
    "\"\"\"Самый танцевальный жанр - шаг 2.3\"\"\"\n",
    "cur.execute(\"SELECT music_genre, danceability FROM music_genre WHERE danceability = (SELECT MAX(danceability) FROM music_genre)\")\n",
    "cur.fetchall()"
   ],
   "metadata": {
    "collapsed": false,
    "ExecuteTime": {
     "start_time": "2023-04-20T19:30:06.615274Z",
     "end_time": "2023-04-20T19:30:06.662751Z"
    }
   }
  },
  {
   "cell_type": "code",
   "execution_count": 43,
   "outputs": [
    {
     "data": {
      "text/plain": "[('Alternative', 'Major', 3000),\n ('Alternative', 'Minor', 1728),\n ('Anime', 'Major', 2915),\n ('Anime', 'Minor', 1813),\n ('Blues', 'Major', 3379),\n ('Blues', 'Minor', 1366),\n ('Classical', 'Major', 3147),\n ('Classical', 'Minor', 1587),\n ('Country', 'Major', 4164),\n ('Country', 'Minor', 615),\n ('Electronic', 'Major', 2571),\n ('Electronic', 'Minor', 2206),\n ('Hip-Hop', 'Major', 2635),\n ('Hip-Hop', 'Minor', 2120),\n ('Jazz', 'Major', 2527),\n ('Jazz', 'Minor', 2243),\n ('Rap', 'Major', 2626),\n ('Rap', 'Minor', 2111),\n ('Rock', 'Major', 3521),\n ('Rock', 'Minor', 1237)]"
     },
     "execution_count": 43,
     "metadata": {},
     "output_type": "execute_result"
    }
   ],
   "source": [
    "\"\"\"Тональность в жанре - шаг 2.4\"\"\"\n",
    "cur.execute(\"SELECT music_genre, mode, COUNT(*) AS genre_mode \"\n",
    "            \"FROM music_genre \"\n",
    "            \"GROUP BY music_genre, mode \"\n",
    "            \"ORDER BY music_genre, genre_mode DESC;\")\n",
    "cur.fetchall()"
   ],
   "metadata": {
    "collapsed": false,
    "ExecuteTime": {
     "start_time": "2023-04-20T19:30:06.626274Z",
     "end_time": "2023-04-20T19:30:06.690961Z"
    }
   }
  },
  {
   "cell_type": "markdown",
   "source": [
    "### Задание 3"
   ],
   "metadata": {
    "collapsed": false
   }
  },
  {
   "cell_type": "code",
   "execution_count": 44,
   "outputs": [
    {
     "data": {
      "text/plain": "[('\"Weird Al\" Yankovic', 1)]"
     },
     "execution_count": 44,
     "metadata": {},
     "output_type": "execute_result"
    }
   ],
   "source": [
    "\"\"\"Исполнитель с минимальным количеством треков - шаг 3.1\"\"\"\n",
    "cur.execute(\"SELECT artist_name, COUNT(*) AS Value FROM music_genre GROUP BY artist_name ORDER BY Value LIMIT 1\")\n",
    "cur.fetchall()"
   ],
   "metadata": {
    "collapsed": false,
    "ExecuteTime": {
     "start_time": "2023-04-20T19:30:06.657006Z",
     "end_time": "2023-04-20T19:30:06.692467Z"
    }
   }
  },
  {
   "cell_type": "code",
   "execution_count": 45,
   "outputs": [
    {
     "data": {
      "text/plain": "[('Nobuo Uematsu', 429)]"
     },
     "execution_count": 45,
     "metadata": {},
     "output_type": "execute_result"
    }
   ],
   "source": [
    "\"\"\"Исполнитель с максимальным количеством треков - шаг 3.1\"\"\"\n",
    "cur.execute(\"SELECT artist_name, COUNT(*) AS Value FROM music_genre GROUP BY artist_name ORDER BY Value DESC LIMIT 1\")\n",
    "cur.fetchall()"
   ],
   "metadata": {
    "collapsed": false,
    "ExecuteTime": {
     "start_time": "2023-04-20T19:30:06.685502Z",
     "end_time": "2023-04-20T19:30:06.780825Z"
    }
   }
  },
  {
   "cell_type": "code",
   "execution_count": 46,
   "outputs": [
    {
     "data": {
      "text/plain": "[('Nobuo Uematsu', 429),\n ('Wolfgang Amadeus Mozart', 402),\n ('Ludwig van Beethoven', 317),\n ('Johann Sebastian Bach', 314),\n ('Frédéric Chopin', 241),\n ('Drake', 172),\n ('Capcom Sound Team', 169),\n ('Yuki Hayashi', 167),\n ('Eminem', 147),\n ('Future', 124),\n ('Thievery Corporation', 122),\n ('The Black Keys', 114),\n ('Pyotr Ilyich Tchaikovsky', 103),\n ('Kevin Gates', 102),\n ('Mac Miller', 97),\n ('Howard Shore', 93),\n ('Logic', 92),\n ('$uicideBoy$', 92),\n ('Ryuichi Sakamoto', 90),\n ('ASIAN KUNG-FU GENERATION', 89)]"
     },
     "execution_count": 46,
     "metadata": {},
     "output_type": "execute_result"
    }
   ],
   "source": [
    "\"\"\"Топ-20 исполнителей - шаг 3.2\"\"\"\n",
    "cur.execute(\"SELECT artist_name, COUNT(*) AS Value FROM music_genre GROUP BY artist_name ORDER BY Value DESC LIMIT 20\")\n",
    "cur.fetchall()"
   ],
   "metadata": {
    "collapsed": false,
    "ExecuteTime": {
     "start_time": "2023-04-20T19:30:06.715305Z",
     "end_time": "2023-04-20T19:30:06.781737Z"
    }
   }
  },
  {
   "cell_type": "markdown",
   "source": [
    "### Задание 8"
   ],
   "metadata": {
    "collapsed": false
   }
  },
  {
   "cell_type": "code",
   "execution_count": 47,
   "outputs": [
    {
     "data": {
      "text/plain": "<sqlite3.Cursor at 0x17ca128c0>"
     },
     "execution_count": 47,
     "metadata": {},
     "output_type": "execute_result"
    }
   ],
   "source": [
    "\"\"\"Длительность треков (категориальный столбец) - шаг 8.1\"\"\"\n",
    "cur.execute(\"ALTER TABLE music_genre ADD COLUMN track_length\")"
   ],
   "metadata": {
    "collapsed": false,
    "ExecuteTime": {
     "start_time": "2023-04-20T19:30:06.758761Z",
     "end_time": "2023-04-20T19:30:06.781969Z"
    }
   }
  },
  {
   "cell_type": "code",
   "execution_count": 48,
   "outputs": [
    {
     "data": {
      "text/plain": "[('средняя', 27009), ('короткая', 12924), ('длинная', 7578)]"
     },
     "execution_count": 48,
     "metadata": {},
     "output_type": "execute_result"
    }
   ],
   "source": [
    "\"\"\"Длительность треков (категориальный столбец) - шаг 8.1\"\"\"\n",
    "cur.execute(\"\"\"\n",
    "    SELECT track_length, COUNT(*) AS track_count\n",
    "    FROM (\n",
    "        SELECT\n",
    "            CASE\n",
    "                WHEN (duration_ms * 0.001 / 60) <= 3 THEN 'короткая'\n",
    "                WHEN (duration_ms * 0.001 / 60) > 5 THEN 'длинная'\n",
    "                WHEN 3 < (duration_ms * 0.001 / 60) <= 5 THEN 'средняя'\n",
    "            END AS track_length\n",
    "        FROM music_genre\n",
    "    ) t\n",
    "    GROUP BY track_length\n",
    "    ORDER BY track_count DESC;\n",
    "\"\"\")\n",
    "cur.fetchall()"
   ],
   "metadata": {
    "collapsed": false,
    "ExecuteTime": {
     "start_time": "2023-04-20T19:30:06.764978Z",
     "end_time": "2023-04-20T19:30:06.829524Z"
    }
   }
  },
  {
   "cell_type": "markdown",
   "source": [
    "<b>Задания выполнены на SQL"
   ],
   "metadata": {
    "collapsed": false
   }
  }
 ],
 "metadata": {
  "kernelspec": {
   "display_name": "Python 3",
   "language": "python",
   "name": "python3"
  },
  "language_info": {
   "codemirror_mode": {
    "name": "ipython",
    "version": 2
   },
   "file_extension": ".py",
   "mimetype": "text/x-python",
   "name": "python",
   "nbconvert_exporter": "python",
   "pygments_lexer": "ipython2",
   "version": "2.7.6"
  }
 },
 "nbformat": 4,
 "nbformat_minor": 0
}
